{
 "cells": [
  {
   "cell_type": "code",
   "execution_count": 1,
   "metadata": {},
   "outputs": [],
   "source": [
    "%load_ext autoreload\n",
    "%autoreload 2\n",
    "\n",
    "import sys\n",
    "sys.path.append('../')\n",
    "\n",
    "import os\n",
    "import json\n",
    "from pipeline import VizPipeline, VizGroup\n",
    "from params import parse_params\n",
    "import matplotlib.pyplot as plt\n",
    "from PIL import ImageOps\n",
    "\n",
    "from IPython.display import display\n",
    "from ipywidgets import interact, interactive, fixed, interact_manual\n",
    "import ipywidgets as widgets\n",
    "\n",
    "# A hack to import a local library\n",
    "sys.path.append(\"../pilutils/lib/src\")\n",
    "import functions as pilutils\n",
    "\n",
    "sys.argv=['']; del sys"
   ]
  },
  {
   "cell_type": "code",
   "execution_count": 2,
   "metadata": {},
   "outputs": [],
   "source": [
    "with open('../partition/ms/train_items_35_1x10-fold.json', 'r') as fp:\n",
    "    partition_dict = json.load(fp)\n",
    "    \n",
    "class_list = partition_dict['metadata']['label_map'].keys()"
   ]
  },
  {
   "cell_type": "code",
   "execution_count": 3,
   "metadata": {},
   "outputs": [],
   "source": [
    "template_path = '../params.yaml'\n",
    "\n",
    "params = parse_params(template_path, './params/baseline.yaml')"
   ]
  },
  {
   "cell_type": "code",
   "execution_count": 4,
   "metadata": {},
   "outputs": [
    {
     "data": {
      "application/vnd.jupyter.widget-view+json": {
       "model_id": "1f5b39be23134051bd559ec56fd088af",
       "version_major": 2,
       "version_minor": 0
      },
      "text/plain": [
       "interactive(children=(BoundedIntText(value=182, description='Instance:', max=1000), Dropdown(description='Cate…"
      ]
     },
     "metadata": {},
     "output_type": "display_data"
    }
   ],
   "source": [
    "import numpy as np\n",
    "\n",
    "@interact(\n",
    "    inst_idx = widgets.BoundedIntText(\n",
    "        value=182,\n",
    "        min=0,\n",
    "        max=1000,\n",
    "        step=1,\n",
    "        description='Instance:',\n",
    "        disabled=False\n",
    "    ),\n",
    "    category = widgets.Dropdown(\n",
    "        options=sorted(class_list),\n",
    "        value='race_track',\n",
    "        description='Category:',\n",
    "        disabled=False,\n",
    "    )\n",
    ")\n",
    "def demo(inst_idx, category):\n",
    "    def run(ms3_params):\n",
    "        param_name_list = [None]\n",
    "        param_val_list = [None]\n",
    "        for focal_length in np.arange(0.1, 1.01, 0.2):\n",
    "            param_name_list.append('focal_length')\n",
    "            param_val_list.append(focal_length)\n",
    "        viz_group = VizGroup(ms3_params, 'train', 0, param_name_list=param_name_list, param_val_list=param_val_list)\n",
    "        img_list = viz_group(category, inst_idx)\n",
    "        title = category.replace('_', ' ').title()\n",
    "        row = pilutils.lmosaic(img_list[1:], ['FL={:.1f}m'.format(fl) for fl in param_val_list[1:]], len(img_list[1:]), 1, spacing=0.02, border=3, fontsize=14,\n",
    "                                box_padding=0.4,\n",
    "                                box_offset=7, box_type='square', box_alpha=0.8)\n",
    "        probe = pilutils.lmosaic([img_list[0]], [title], 1, 1, spacing=0.02, border=3, fontsize=16,\n",
    "                                box_padding=0.4,\n",
    "                                box_offset=7, box_type='square', box_alpha=0.8)\n",
    "        full_row = pilutils.hstitch([probe, row], border=2, spacing=10, spacing_color=pilutils.GRAY, border_color=pilutils.GRAY)\n",
    "        mosaic = ImageOps.expand(full_row, border=3, fill=pilutils.BLACK)\n",
    "        display(mosaic)\n",
    "\n",
    "    run(params)"
   ]
  }
 ],
 "metadata": {
  "kernelspec": {
   "display_name": "Python 3",
   "language": "python",
   "name": "python3"
  },
  "language_info": {
   "codemirror_mode": {
    "name": "ipython",
    "version": 3
   },
   "file_extension": ".py",
   "mimetype": "text/x-python",
   "name": "python",
   "nbconvert_exporter": "python",
   "pygments_lexer": "ipython3",
   "version": "3.6.7"
  }
 },
 "nbformat": 4,
 "nbformat_minor": 2
}
